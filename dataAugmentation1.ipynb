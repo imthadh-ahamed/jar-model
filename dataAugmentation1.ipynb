{
 "cells": [
  {
   "cell_type": "markdown",
   "id": "6089d490",
   "metadata": {},
   "source": [
    "# Data Augmentation and Prediction of Water Quality Parameters\n",
    "This notebook loads the dataset, applies SMOTE to augment the data, and prepares the augmented dataset for download."
   ]
  },
  {
   "cell_type": "code",
   "execution_count": 6,
   "id": "5b4c0e4b",
   "metadata": {},
   "outputs": [
    {
     "name": "stdout",
     "output_type": "stream",
     "text": [
      "Requirement already satisfied: imbalanced-learn in c:\\users\\hp\\appdata\\roaming\\python\\python313\\site-packages (0.13.0)\n",
      "Requirement already satisfied: pandas in c:\\users\\hp\\appdata\\roaming\\python\\python313\\site-packages (2.3.0)\n",
      "Requirement already satisfied: numpy in c:\\users\\hp\\appdata\\roaming\\python\\python313\\site-packages (2.3.1)\n",
      "Requirement already satisfied: matplotlib in c:\\users\\hp\\appdata\\roaming\\python\\python313\\site-packages (3.10.3)\n",
      "Requirement already satisfied: seaborn in c:\\users\\hp\\appdata\\roaming\\python\\python313\\site-packages (0.13.2)\n",
      "Requirement already satisfied: scipy<2,>=1.10.1 in c:\\users\\hp\\appdata\\roaming\\python\\python313\\site-packages (from imbalanced-learn) (1.16.0)\n",
      "Requirement already satisfied: scikit-learn<2,>=1.3.2 in c:\\users\\hp\\appdata\\roaming\\python\\python313\\site-packages (from imbalanced-learn) (1.6.1)\n",
      "Requirement already satisfied: sklearn-compat<1,>=0.1 in c:\\users\\hp\\appdata\\roaming\\python\\python313\\site-packages (from imbalanced-learn) (0.1.3)\n",
      "Requirement already satisfied: joblib<2,>=1.1.1 in c:\\users\\hp\\appdata\\roaming\\python\\python313\\site-packages (from imbalanced-learn) (1.5.1)\n",
      "Requirement already satisfied: threadpoolctl<4,>=2.0.0 in c:\\users\\hp\\appdata\\roaming\\python\\python313\\site-packages (from imbalanced-learn) (3.6.0)\n",
      "Requirement already satisfied: python-dateutil>=2.8.2 in c:\\users\\hp\\appdata\\roaming\\python\\python313\\site-packages (from pandas) (2.9.0.post0)\n",
      "Requirement already satisfied: pytz>=2020.1 in c:\\users\\hp\\appdata\\roaming\\python\\python313\\site-packages (from pandas) (2025.2)\n",
      "Requirement already satisfied: tzdata>=2022.7 in c:\\users\\hp\\appdata\\roaming\\python\\python313\\site-packages (from pandas) (2025.2)\n",
      "Requirement already satisfied: contourpy>=1.0.1 in c:\\users\\hp\\appdata\\roaming\\python\\python313\\site-packages (from matplotlib) (1.3.2)\n",
      "Requirement already satisfied: cycler>=0.10 in c:\\users\\hp\\appdata\\roaming\\python\\python313\\site-packages (from matplotlib) (0.12.1)\n",
      "Requirement already satisfied: fonttools>=4.22.0 in c:\\users\\hp\\appdata\\roaming\\python\\python313\\site-packages (from matplotlib) (4.58.4)\n",
      "Requirement already satisfied: kiwisolver>=1.3.1 in c:\\users\\hp\\appdata\\roaming\\python\\python313\\site-packages (from matplotlib) (1.4.8)\n",
      "Requirement already satisfied: packaging>=20.0 in c:\\users\\hp\\appdata\\roaming\\python\\python313\\site-packages (from matplotlib) (25.0)\n",
      "Requirement already satisfied: pillow>=8 in c:\\users\\hp\\appdata\\roaming\\python\\python313\\site-packages (from matplotlib) (11.3.0)\n",
      "Requirement already satisfied: pyparsing>=2.3.1 in c:\\users\\hp\\appdata\\roaming\\python\\python313\\site-packages (from matplotlib) (3.2.3)\n",
      "Requirement already satisfied: six>=1.5 in c:\\users\\hp\\appdata\\roaming\\python\\python313\\site-packages (from python-dateutil>=2.8.2->pandas) (1.17.0)\n",
      "Note: you may need to restart the kernel to use updated packages.\n"
     ]
    }
   ],
   "source": [
    "# Install necessary packages\n",
    "%pip install imbalanced-learn pandas numpy matplotlib seaborn"
   ]
  },
  {
   "cell_type": "code",
   "execution_count": 13,
   "id": "74610c6d",
   "metadata": {},
   "outputs": [
    {
     "name": "stdout",
     "output_type": "stream",
     "text": [
      "         Date  Raw_Turbidity  Raw_PH  Raw_Colour  PAC  KMnO4  ACD  Turbidity  \\\n",
      "0  31/12/2019           90.4    7.07       500.0  2.5    0.4  0.5       19.0   \n",
      "1  31/12/2019           90.4    7.07       500.0  3.0    0.4  0.5       14.2   \n",
      "2  31/12/2019           90.4    7.07       500.0  3.5    0.4  0.5       12.6   \n",
      "3  31/12/2019           90.4    7.07       500.0  4.0    0.4  0.5       10.6   \n",
      "4  31/12/2019           90.4    7.07       500.0  4.5    0.4  0.5       10.7   \n",
      "\n",
      "     PH  Colour  \n",
      "0  7.07    48.0  \n",
      "1  7.05    39.0  \n",
      "2  7.02    31.0  \n",
      "3  6.98    27.0  \n",
      "4  6.93    29.0  \n",
      "<class 'pandas.core.frame.DataFrame'>\n",
      "RangeIndex: 5112 entries, 0 to 5111\n",
      "Data columns (total 10 columns):\n",
      " #   Column         Non-Null Count  Dtype  \n",
      "---  ------         --------------  -----  \n",
      " 0   Date           5106 non-null   object \n",
      " 1   Raw_Turbidity  5106 non-null   float64\n",
      " 2   Raw_PH         5106 non-null   float64\n",
      " 3   Raw_Colour     5106 non-null   float64\n",
      " 4   PAC            5106 non-null   float64\n",
      " 5   KMnO4          5106 non-null   float64\n",
      " 6   ACD            5106 non-null   float64\n",
      " 7   Turbidity      5106 non-null   float64\n",
      " 8   PH             5106 non-null   float64\n",
      " 9   Colour         5106 non-null   float64\n",
      "dtypes: float64(9), object(1)\n",
      "memory usage: 399.5+ KB\n",
      "None\n"
     ]
    }
   ],
   "source": [
    "# Import libraries and load dataset\n",
    "import pandas as pd\n",
    "import numpy as np\n",
    "from IPython.display import FileLink\n",
    "import matplotlib.pyplot as plt\n",
    "import seaborn as sns\n",
    "\n",
    "# Load dataset\n",
    "df = pd.read_csv(r\"E:\\jar-model\\jartest.csv\")\n",
    "print(df.head())\n",
    "print(df.info())\n",
    "\n",
    "# Drop rows with missing target values\n",
    "# df = df.dropna(subset=['Turbidity', 'PH', 'Colour'])"
   ]
  },
  {
   "cell_type": "code",
   "execution_count": 14,
   "id": "fb871d5e",
   "metadata": {},
   "outputs": [
    {
     "name": "stdout",
     "output_type": "stream",
     "text": [
      "Original dataset shape: (5112, 10)\n",
      "Augmented dataset shape: (10224, 10)\n"
     ]
    },
    {
     "data": {
      "text/html": [
       "<a href='E:\\jar-model\\jartest_augmented1.csv' target='_blank'>E:\\jar-model\\jartest_augmented1.csv</a><br>"
      ],
      "text/plain": [
       "E:\\jar-model\\jartest_augmented1.csv"
      ]
     },
     "execution_count": 14,
     "metadata": {},
     "output_type": "execute_result"
    }
   ],
   "source": [
    "# Define input features and target variables\n",
    "X = df[['Raw_Turbidity', 'Raw_PH', 'Raw_Colour', 'PAC', 'KMnO4', 'ACD']]\n",
    "y = df[['Turbidity', 'PH', 'Colour']]\n",
    "\n",
    "# Display original dataset shape\n",
    "print(f\"Original dataset shape: {df.shape}\")\n",
    "\n",
    "# Augment data by adding Gaussian noise (regression targets)\n",
    "n = len(df)\n",
    "noise_factor = 0.01\n",
    "df_noise = df.copy()\n",
    "for col in ['Raw_Turbidity', 'Raw_PH', 'Raw_Colour', 'PAC', 'KMnO4', 'ACD', 'Turbidity', 'PH', 'Colour']:\n",
    "    df_noise[col] = df_noise[col] + np.random.normal(0, df_noise[col].std() * noise_factor, size=n)\n",
    "# Combine original and noisy data\n",
    "df_augmented = pd.concat([df, df_noise], ignore_index=True)\n",
    "\n",
    "# Display augmented dataset shape\n",
    "print(f\"Augmented dataset shape: {df_augmented.shape}\")\n",
    "\n",
    "# Save augmented dataset to CSV\n",
    "output_path = r\"E:\\jar-model\\jartest_augmented1.csv\"\n",
    "df_augmented.to_csv(output_path, index=False)\n",
    "\n",
    "# Provide link to download the augmented CSV file\n",
    "FileLink(output_path)"
   ]
  }
 ],
 "metadata": {
  "kernelspec": {
   "display_name": "Python 3",
   "language": "python",
   "name": "python3"
  },
  "language_info": {
   "codemirror_mode": {
    "name": "ipython",
    "version": 3
   },
   "file_extension": ".py",
   "mimetype": "text/x-python",
   "name": "python",
   "nbconvert_exporter": "python",
   "pygments_lexer": "ipython3",
   "version": "3.13.5"
  }
 },
 "nbformat": 4,
 "nbformat_minor": 5
}
