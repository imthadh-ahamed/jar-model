{
  "cells": [
    {
      "cell_type": "markdown",
      "metadata": {
        "id": "P8HQU-1GhD6f"
      },
      "source": [
        "# Import packages"
      ]
    },
    {
      "cell_type": "code",
      "execution_count": null,
      "metadata": {
        "id": "k84mX3fahGkq"
      },
      "outputs": [
        {
          "ename": "",
          "evalue": "",
          "output_type": "error",
          "traceback": [
            "\u001b[1;31mFailed to start the Kernel. \n",
            "\u001b[1;31mUnable to start Kernel 'Python 3.13.5' due to a timeout waiting for the ports to get used. \n",
            "\u001b[1;31mView Jupyter <a href='command:jupyter.viewOutput'>log</a> for further details."
          ]
        }
      ],
      "source": [
        "import pandas as pd\n",
        "import numpy as np\n",
        "import matplotlib.pyplot as plt\n",
        "import seaborn as sns\n",
        "import sklearn\n",
        "sklearn.set_config(display='text')\n",
        "from sklearn.model_selection import train_test_split, RandomizedSearchCV, GridSearchCV\n",
        "from sklearn.ensemble import RandomForestRegressor\n",
        "from sklearn.metrics import mean_absolute_error, mean_squared_error, r2_score\n",
        "from sklearn.impute import SimpleImputer\n",
        "from sklearn.preprocessing import StandardScaler"
      ]
    },
    {
      "cell_type": "markdown",
      "metadata": {
        "id": "XH1Sql7VhK6a"
      },
      "source": [
        "# Load and read the data"
      ]
    },
    {
      "cell_type": "code",
      "execution_count": null,
      "metadata": {
        "colab": {
          "base_uri": "https://localhost:8080/",
          "height": 206
        },
        "id": "fdIyT2BOhI7-",
        "outputId": "ce0b011c-f042-49c2-edcd-7be7de6c2208"
      },
      "outputs": [],
      "source": [
        "data = pd.read_csv('E:\\jar-model\\jartest_augmented1.csv')\n",
        "data = data.drop(columns=['Date'])\n",
        "data.head()"
      ]
    },
    {
      "cell_type": "code",
      "execution_count": null,
      "metadata": {},
      "outputs": [],
      "source": [
        "# Drop rows with missing target values\n",
        "data = data.dropna(subset=['Turbidity', 'PH', 'Colour'])\n",
        "data.head()"
      ]
    },
    {
      "cell_type": "code",
      "execution_count": null,
      "metadata": {},
      "outputs": [],
      "source": [
        "# Remove outliers using IQR-based filtering\n",
        "def remove_outliers_iqr(df, cols, factor=1.5):\n",
        "    Q1 = df[cols].quantile(0.25)\n",
        "    Q3 = df[cols].quantile(0.75)\n",
        "    IQR = Q3 - Q1\n",
        "    mask = ~((df[cols] < (Q1 - factor * IQR)) | (df[cols] > (Q3 + factor * IQR))).any(axis=1)\n",
        "    return df.loc[mask]\n",
        "\n",
        "# Apply outlier removal on all predictors and targets\n",
        "cols = ['Raw_Turbidity','Raw_PH','Raw_Colour','PAC','KMnO4','ACD','Turbidity','PH','Colour']\n",
        "data = remove_outliers_iqr(data, cols)\n",
        "print(f\"Data shape after outlier removal: {data.shape}\")\n",
        "data.head()"
      ]
    },
    {
      "cell_type": "code",
      "execution_count": null,
      "metadata": {
        "id": "Dzrs7GafjfRi"
      },
      "outputs": [],
      "source": [
        "X_turbidity = data[['Raw_Turbidity', 'Raw_Colour', 'Raw_PH', 'PAC', 'KMnO4','ACD']]\n",
        "X_ph = data[['Raw_Turbidity', 'Raw_Colour', 'Raw_PH', 'PAC', 'KMnO4','ACD']]\n",
        "X_colour = data[['Raw_Turbidity', 'Raw_Colour', 'Raw_PH', 'PAC', 'KMnO4','ACD']]\n",
        "y_turbidity = data['Turbidity']\n",
        "y_ph = data['PH']\n",
        "y_colour = data['Colour']"
      ]
    },
    {
      "cell_type": "markdown",
      "metadata": {
        "id": "PPD9XEuEjkwr"
      },
      "source": [
        "# Model development"
      ]
    },
    {
      "cell_type": "markdown",
      "metadata": {
        "id": "Fr2Uf0ptjqHG"
      },
      "source": [
        "## Turbidiy"
      ]
    },
    {
      "cell_type": "code",
      "execution_count": null,
      "metadata": {
        "id": "ty3dCgsvjmZx"
      },
      "outputs": [],
      "source": [
        "X_turbidity_train, X_turbidity_test, y_turbidity_train, y_turbidity_test = train_test_split(X_turbidity, y_turbidity, test_size=0.2, random_state=42)"
      ]
    },
    {
      "cell_type": "code",
      "execution_count": null,
      "metadata": {
        "colab": {
          "base_uri": "https://localhost:8080/"
        },
        "id": "_tOYuoNSj0E7",
        "outputId": "680da330-9b94-4add-a867-271066b259ca"
      },
      "outputs": [],
      "source": [
        "# Initialize RandomForest model for Turbidity\n",
        "evaluate_model = None  # placeholder to preserve context if any\n",
        "model_turbidity = RandomForestRegressor(n_estimators=100, random_state=42)\n",
        "model_turbidity.fit(X_turbidity_train, y_turbidity_train)"
      ]
    },
    {
      "cell_type": "markdown",
      "metadata": {
        "id": "uq9RSbvFj5na"
      },
      "source": [
        "## PH"
      ]
    },
    {
      "cell_type": "code",
      "execution_count": null,
      "metadata": {
        "id": "zCox6726j7BO"
      },
      "outputs": [],
      "source": [
        "X_ph_train, X_ph_test, y_ph_train, y_ph_test = train_test_split(X_ph, y_ph, test_size=0.2, random_state=42)"
      ]
    },
    {
      "cell_type": "code",
      "execution_count": null,
      "metadata": {
        "id": "SKCwSSFdj_1V"
      },
      "outputs": [],
      "source": [
        "model_ph =  RandomForestRegressor(\n",
        "    n_estimators=200,\n",
        "    min_samples_split=2,\n",
        "    min_samples_leaf=2,\n",
        "    max_features=\"sqrt\",\n",
        "    max_depth=None,\n",
        "    bootstrap=False,\n",
        "    random_state=42\n",
        ")"
      ]
    },
    {
      "cell_type": "code",
      "execution_count": null,
      "metadata": {
        "colab": {
          "base_uri": "https://localhost:8080/"
        },
        "id": "GJUPImUTkAPr",
        "outputId": "05e46ad6-ecb0-4294-e6f2-53a1aa4e1a90"
      },
      "outputs": [],
      "source": [
        "model_ph.fit(X_ph_train, y_ph_train)"
      ]
    },
    {
      "cell_type": "markdown",
      "metadata": {
        "id": "LcAUReiCkFX8"
      },
      "source": [
        "## Colour"
      ]
    },
    {
      "cell_type": "code",
      "execution_count": null,
      "metadata": {
        "id": "a0C_MaXOkCIL"
      },
      "outputs": [],
      "source": [
        "X_colour_train, X_colour_test, y_colour_train, y_colour_test = train_test_split(X_colour, y_colour, test_size=0.2, random_state=42)"
      ]
    },
    {
      "cell_type": "code",
      "execution_count": null,
      "metadata": {
        "id": "K2WygofpkJJ5"
      },
      "outputs": [],
      "source": [
        "model_colour = RandomForestRegressor(\n",
        "    n_estimators=300,\n",
        "    min_samples_split=2,\n",
        "    min_samples_leaf=1,\n",
        "    max_features=\"log2\",\n",
        "    max_depth=None,\n",
        "    bootstrap=False,\n",
        "    random_state=42\n",
        ")"
      ]
    },
    {
      "cell_type": "code",
      "execution_count": null,
      "metadata": {
        "colab": {
          "base_uri": "https://localhost:8080/"
        },
        "id": "CMQMsO9ZkKs8",
        "outputId": "e4689a15-8c9a-46dc-ce07-c9d4ac8541ab"
      },
      "outputs": [],
      "source": [
        "model_colour.fit(X_colour_train, y_colour_train)"
      ]
    },
    {
      "cell_type": "markdown",
      "metadata": {
        "id": "M4GTG3f7kWMV"
      },
      "source": [
        "# Model Testing & Validation"
      ]
    },
    {
      "cell_type": "code",
      "execution_count": null,
      "metadata": {
        "colab": {
          "base_uri": "https://localhost:8080/"
        },
        "id": "9qAzlp8ekXRf",
        "outputId": "7f71d5e0-0ecc-43a0-d437-3fe6825884ce"
      },
      "outputs": [],
      "source": [
        "y_turbidity_pred = model_turbidity.predict(X_turbidity_test)\n",
        "y_turbidity_pred"
      ]
    },
    {
      "cell_type": "code",
      "execution_count": null,
      "metadata": {
        "colab": {
          "base_uri": "https://localhost:8080/",
          "height": 424
        },
        "id": "w7PtVZmakY_j",
        "outputId": "e3605af8-ff02-437c-b268-bd76fa28d298"
      },
      "outputs": [],
      "source": [
        "results_Tur = pd.DataFrame({\n",
        "    'Actual': y_turbidity_test.flatten() if hasattr(y_turbidity_test, 'flatten') else y_turbidity_test,\n",
        "    'Predicted': y_turbidity_pred.flatten() if hasattr(y_turbidity_pred, 'flatten') else y_turbidity_pred\n",
        "})\n",
        "\n",
        "\n",
        "results_Tur"
      ]
    },
    {
      "cell_type": "code",
      "execution_count": null,
      "metadata": {
        "colab": {
          "base_uri": "https://localhost:8080/",
          "height": 564
        },
        "id": "L5yNvUF4kjSn",
        "outputId": "90d1783d-6a93-4477-cc5a-549d24b66894"
      },
      "outputs": [],
      "source": [
        "import matplotlib.pyplot as plt\n",
        "\n",
        "# Scatter plot with actual values on the x-axis and predicted values on the y-axis\n",
        "plt.figure(figsize=(10, 6))\n",
        "\n",
        "plt.scatter(results_Tur['Actual'], results_Tur['Predicted'], color='blue', alpha=0.7, label='Predictions')\n",
        "\n",
        "# Adding a reference line (y = x) for comparison\n",
        "min_val = min(results_Tur['Actual'].min(), results_Tur['Predicted'].min())\n",
        "max_val = max(results_Tur['Actual'].max(), results_Tur['Predicted'].max())\n",
        "plt.plot([min_val, max_val], [min_val, max_val], color='red', linestyle='--', label='Ideal Fit (y=x)')\n",
        "\n",
        "# Labels, title, and legend\n",
        "plt.title('Actual vs Predicted')\n",
        "plt.xlabel('Actual Values')\n",
        "plt.ylabel('Predicted Values')\n",
        "plt.legend()\n",
        "plt.grid()\n",
        "\n",
        "# Display the plot\n",
        "plt.show()"
      ]
    },
    {
      "cell_type": "code",
      "execution_count": null,
      "metadata": {
        "colab": {
          "base_uri": "https://localhost:8080/"
        },
        "id": "xPSHP7WjlDKK",
        "outputId": "a71e5596-e4d4-48b2-b726-3148e3c46f3e"
      },
      "outputs": [],
      "source": [
        "y_ph_pred = model_ph.predict(X_ph_test)\n",
        "y_ph_pred"
      ]
    },
    {
      "cell_type": "code",
      "execution_count": null,
      "metadata": {
        "colab": {
          "base_uri": "https://localhost:8080/",
          "height": 424
        },
        "id": "4Sp34JLVlWHm",
        "outputId": "345f37c2-67fb-4612-a914-5e1b103ddbb5"
      },
      "outputs": [],
      "source": [
        "results_Ph = pd.DataFrame({\n",
        "    'Actual': y_ph_test.flatten() if hasattr(y_ph_test, 'flatten') else y_ph_test,\n",
        "    'Predicted': y_ph_pred.flatten() if hasattr(y_ph_pred, 'flatten') else y_ph_pred\n",
        "})\n",
        "\n",
        "results_Ph"
      ]
    },
    {
      "cell_type": "code",
      "execution_count": null,
      "metadata": {
        "colab": {
          "base_uri": "https://localhost:8080/",
          "height": 564
        },
        "id": "CftWBFaslX-v",
        "outputId": "ea6e6f71-56bf-40b2-836d-05f52aa5f751"
      },
      "outputs": [],
      "source": [
        "import matplotlib.pyplot as plt\n",
        "\n",
        "# Scatter plot with actual values on the x-axis and predicted values on the y-axis\n",
        "plt.figure(figsize=(10, 6))\n",
        "\n",
        "plt.scatter(results_Ph['Actual'], results_Ph['Predicted'], color='blue', alpha=0.7, label='Predictions')\n",
        "\n",
        "# Adding a reference line (y = x) for comparison\n",
        "min_val = min(results_Ph['Actual'].min(), results_Ph['Predicted'].min())\n",
        "max_val = max(results_Ph['Actual'].max(), results_Ph['Predicted'].max())\n",
        "plt.plot([min_val, max_val], [min_val, max_val], color='red', linestyle='--', label='Ideal Fit (y=x)')\n",
        "\n",
        "# Labels, title, and legend\n",
        "plt.title('Actual vs Predicted')\n",
        "plt.xlabel('Actual Values')\n",
        "plt.ylabel('Predicted Values')\n",
        "plt.legend()\n",
        "plt.grid()\n",
        "\n",
        "# Display the plot\n",
        "plt.show()\n"
      ]
    },
    {
      "cell_type": "code",
      "execution_count": null,
      "metadata": {
        "colab": {
          "base_uri": "https://localhost:8080/"
        },
        "id": "2PbFGfVjla6y",
        "outputId": "d2368edb-669d-4f41-e231-402edbb92b34"
      },
      "outputs": [],
      "source": [
        "y_colour_pred = model_colour.predict(X_colour_test)\n",
        "y_colour_pred"
      ]
    },
    {
      "cell_type": "code",
      "execution_count": null,
      "metadata": {
        "colab": {
          "base_uri": "https://localhost:8080/",
          "height": 424
        },
        "id": "CdYCYNqvlhmO",
        "outputId": "4d9caa80-c137-47cb-d5ce-9ff1b1077a26"
      },
      "outputs": [],
      "source": [
        "results_Colo = pd.DataFrame({\n",
        "    'Actual': y_colour_test.flatten() if hasattr(y_colour_test, 'flatten') else y_colour_test,\n",
        "    'Predicted': y_colour_pred.flatten() if hasattr(y_colour_pred, 'flatten') else y_colour_pred\n",
        "})\n",
        "\n",
        "results_Colo"
      ]
    },
    {
      "cell_type": "code",
      "execution_count": null,
      "metadata": {
        "colab": {
          "base_uri": "https://localhost:8080/",
          "height": 564
        },
        "id": "5PyY0qCAlj7p",
        "outputId": "16afc9b2-30c4-4c9f-c37e-dbdcbcf1c4e1"
      },
      "outputs": [],
      "source": [
        "import matplotlib.pyplot as plt\n",
        "\n",
        "# Scatter plot with actual values on the x-axis and predicted values on the y-axis\n",
        "plt.figure(figsize=(10, 6))\n",
        "\n",
        "plt.scatter(results_Colo['Actual'], results_Colo['Predicted'], color='blue', alpha=0.7, label='Predictions')\n",
        "\n",
        "# Adding a reference line (y = x) for comparison\n",
        "min_val = min(results_Colo['Actual'].min(), results_Colo['Predicted'].min())\n",
        "max_val = max(results_Colo['Actual'].max(), results_Colo['Predicted'].max())\n",
        "plt.plot([min_val, max_val], [min_val, max_val], color='red', linestyle='--', label='Ideal Fit (y=x)')\n",
        "\n",
        "# Labels, title, and legend\n",
        "plt.title('Actual vs Predicted')\n",
        "plt.xlabel('Actual Values')\n",
        "plt.ylabel('Predicted Values')\n",
        "plt.legend()\n",
        "plt.grid()\n",
        "\n",
        "# Display the plot\n",
        "plt.show()\n"
      ]
    },
    {
      "cell_type": "code",
      "execution_count": null,
      "metadata": {
        "colab": {
          "base_uri": "https://localhost:8080/"
        },
        "id": "DivFFu7elsDk",
        "outputId": "a4eff995-50d8-44b1-b255-053a486c5b98"
      },
      "outputs": [],
      "source": [
        "from sklearn.metrics import mean_absolute_error, mean_squared_error, r2_score\n",
        "\n",
        "def evaluate_model(y_test, y_pred, target_name):\n",
        "    r2 = r2_score(y_test, y_pred)\n",
        "    accuracy = r2 * 100  # Convert R² to percentage\n",
        "    print(f\"\\nEvaluation Metrics for {target_name}:\")\n",
        "    print(f\"Mean Absolute Error (MAE): {mean_absolute_error(y_test, y_pred):.2f}\")\n",
        "    print(f\"R-squared (R²): {r2:.2f}\")\n",
        "\n",
        "\n",
        "evaluate_model(y_turbidity_test, y_turbidity_pred, \"Turbidity\")\n",
        "evaluate_model(y_ph_test, y_ph_pred, \"PH\")\n",
        "evaluate_model(y_colour_test, y_colour_pred, \"Colour\")\n"
      ]
    },
    {
      "cell_type": "code",
      "execution_count": null,
      "metadata": {},
      "outputs": [],
      "source": [
        "# Remove outliers using IQR-based filtering\n",
        "def remove_outliers_iqr(df, cols, factor=1.0):\n",
        "     Q1 = df[cols].quantile(0.25)\n",
        "     Q3 = df[cols].quantile(0.75)\n",
        "     IQR = Q3 - Q1\n",
        "     mask = ~((df[cols] < (Q1 - factor * IQR)) | (df[cols] > (Q3 + factor * IQR))).any(axis=1)\n",
        "     return df.loc[mask]\n",
        "\n",
        "# Improve model accuracy via hyperparameter tuning for Turbidity\n",
        "from sklearn.model_selection import RandomizedSearchCV\n",
        "param_dist = {\n",
        "    'n_estimators': [100, 200, 300],\n",
        "    'max_depth': [None, 10, 20, 30],\n",
        "    'min_samples_split': [2, 5, 10],\n",
        "    'min_samples_leaf': [1, 2, 4],\n",
        "    'max_features': ['auto', 'sqrt', 'log2']\n",
        "}\n",
        "search_turb = RandomizedSearchCV(\n",
        "    RandomForestRegressor(random_state=42),\n",
        "    param_distributions=param_dist,\n",
        "    n_iter=20,\n",
        "    cv=5,\n",
        "    scoring='r2',\n",
        "    random_state=42\n",
        ")\n",
        "search_turb.fit(X_turbidity_train, y_turbidity_train)\n",
        "model_turbidity = search_turb.best_estimator_\n",
        "print('Best params for Turbidity:', search_turb.best_params_)\n",
        "\n",
        "# Retrain and evaluate\n",
        "model_turbidity.fit(X_turbidity_train, y_turbidity_train)\n",
        "y_turbidity_pred = model_turbidity.predict(X_turbidity_test)\n",
        "evaluate_model(y_turbidity_test, y_turbidity_pred, 'Turbidity')\n",
        "\n",
        "# Repeat similar tuning for PH and Colour targets\n",
        "# Improve model accuracy via hyperparameter tuning for PH\n",
        "param_dist_ph = {\n",
        "    'n_estimators': [100, 200, 300],\n",
        "    'max_depth': [None, 10, 20, 30],\n",
        "    'min_samples_split': [2, 5, 10],\n",
        "    'min_samples_leaf': [1, 2, 4],\n",
        "    'max_features': ['auto', 'sqrt', 'log2']\n",
        "}\n",
        "search_ph = RandomizedSearchCV(\n",
        "    RandomForestRegressor(random_state=42),\n",
        "    param_distributions=param_dist_ph,\n",
        "    n_iter=20,\n",
        "    cv=5,\n",
        "    scoring='r2',\n",
        "    random_state=42\n",
        ")\n",
        "search_ph.fit(X_ph_train, y_ph_train)\n",
        "model_ph = search_ph.best_estimator_\n",
        "print('Best params for PH:', search_ph.best_params_)\n",
        "\n",
        "# Retrain and evaluate\n",
        "model_ph.fit(X_ph_train, y_ph_train)\n",
        "y_ph_pred = model_ph.predict(X_ph_test)\n",
        "evaluate_model(y_ph_test, y_ph_pred, 'PH')\n",
        "\n",
        "# Improve model accuracy via hyperparameter tuning for Colour\n",
        "param_dist_colour = {\n",
        "    'n_estimators': [100, 200, 300],\n",
        "    'max_depth': [None, 10, 20, 30],\n",
        "    'min_samples_split': [2, 5, 10],\n",
        "    'min_samples_leaf': [1, 2, 4],\n",
        "    'max_features': ['auto', 'sqrt', 'log2']\n",
        "}\n",
        "search_colour = RandomizedSearchCV(\n",
        "    RandomForestRegressor(random_state=42),\n",
        "    param_distributions=param_dist_colour,\n",
        "    n_iter=20,\n",
        "    cv=5,\n",
        "    scoring='r2',\n",
        "    random_state=42\n",
        ")\n",
        "search_colour.fit(X_colour_train, y_colour_train)\n",
        "model_colour = search_colour.best_estimator_\n",
        "print('Best params for Colour:', search_colour.best_params_)\n",
        "\n",
        "# Retrain and evaluate\n",
        "model_colour.fit(X_colour_train, y_colour_train)\n",
        "y_colour_pred = model_colour.predict(X_colour_test)\n",
        "evaluate_model(y_colour_test, y_colour_pred, 'Colour')"
      ]
    }
  ],
  "metadata": {
    "colab": {
      "provenance": []
    },
    "kernelspec": {
      "display_name": "Python 3",
      "name": "python3"
    },
    "language_info": {
      "codemirror_mode": {
        "name": "ipython",
        "version": 3
      },
      "file_extension": ".py",
      "mimetype": "text/x-python",
      "name": "python",
      "nbconvert_exporter": "python",
      "pygments_lexer": "ipython3",
      "version": "3.13.5"
    }
  },
  "nbformat": 4,
  "nbformat_minor": 0
}
