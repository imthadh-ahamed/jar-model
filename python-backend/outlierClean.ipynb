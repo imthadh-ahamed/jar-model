{
 "cells": [
  {
   "cell_type": "code",
   "execution_count": 16,
   "id": "12d7567c",
   "metadata": {},
   "outputs": [],
   "source": [
    "import pandas as pd\n",
    "from sklearn.ensemble import IsolationForest\n",
    "from IPython.display import FileLink"
   ]
  },
  {
   "cell_type": "code",
   "execution_count": 17,
   "id": "fe9241bd",
   "metadata": {},
   "outputs": [
    {
     "name": "stderr",
     "output_type": "stream",
     "text": [
      "<>:2: SyntaxWarning: invalid escape sequence '\\j'\n",
      "<>:2: SyntaxWarning: invalid escape sequence '\\j'\n",
      "C:\\Users\\HP\\AppData\\Local\\Temp\\ipykernel_27184\\2005892296.py:2: SyntaxWarning: invalid escape sequence '\\j'\n",
      "  df = pd.read_csv(\"E:\\jar-model\\jartest.csv\")\n"
     ]
    },
    {
     "data": {
      "text/html": [
       "<div>\n",
       "<style scoped>\n",
       "    .dataframe tbody tr th:only-of-type {\n",
       "        vertical-align: middle;\n",
       "    }\n",
       "\n",
       "    .dataframe tbody tr th {\n",
       "        vertical-align: top;\n",
       "    }\n",
       "\n",
       "    .dataframe thead th {\n",
       "        text-align: right;\n",
       "    }\n",
       "</style>\n",
       "<table border=\"1\" class=\"dataframe\">\n",
       "  <thead>\n",
       "    <tr style=\"text-align: right;\">\n",
       "      <th></th>\n",
       "      <th>Date</th>\n",
       "      <th>Raw_Turbidity</th>\n",
       "      <th>Raw_PH</th>\n",
       "      <th>Raw_Colour</th>\n",
       "      <th>PAC</th>\n",
       "      <th>KMnO4</th>\n",
       "      <th>ACD</th>\n",
       "      <th>Turbidity</th>\n",
       "      <th>PH</th>\n",
       "      <th>Colour</th>\n",
       "    </tr>\n",
       "  </thead>\n",
       "  <tbody>\n",
       "    <tr>\n",
       "      <th>0</th>\n",
       "      <td>31/12/2019</td>\n",
       "      <td>90.4</td>\n",
       "      <td>7.07</td>\n",
       "      <td>500.0</td>\n",
       "      <td>2.5</td>\n",
       "      <td>0.4</td>\n",
       "      <td>0.5</td>\n",
       "      <td>19.0</td>\n",
       "      <td>7.07</td>\n",
       "      <td>48.0</td>\n",
       "    </tr>\n",
       "    <tr>\n",
       "      <th>1</th>\n",
       "      <td>31/12/2019</td>\n",
       "      <td>90.4</td>\n",
       "      <td>7.07</td>\n",
       "      <td>500.0</td>\n",
       "      <td>3.0</td>\n",
       "      <td>0.4</td>\n",
       "      <td>0.5</td>\n",
       "      <td>14.2</td>\n",
       "      <td>7.05</td>\n",
       "      <td>39.0</td>\n",
       "    </tr>\n",
       "    <tr>\n",
       "      <th>2</th>\n",
       "      <td>31/12/2019</td>\n",
       "      <td>90.4</td>\n",
       "      <td>7.07</td>\n",
       "      <td>500.0</td>\n",
       "      <td>3.5</td>\n",
       "      <td>0.4</td>\n",
       "      <td>0.5</td>\n",
       "      <td>12.6</td>\n",
       "      <td>7.02</td>\n",
       "      <td>31.0</td>\n",
       "    </tr>\n",
       "    <tr>\n",
       "      <th>3</th>\n",
       "      <td>31/12/2019</td>\n",
       "      <td>90.4</td>\n",
       "      <td>7.07</td>\n",
       "      <td>500.0</td>\n",
       "      <td>4.0</td>\n",
       "      <td>0.4</td>\n",
       "      <td>0.5</td>\n",
       "      <td>10.6</td>\n",
       "      <td>6.98</td>\n",
       "      <td>27.0</td>\n",
       "    </tr>\n",
       "    <tr>\n",
       "      <th>4</th>\n",
       "      <td>31/12/2019</td>\n",
       "      <td>90.4</td>\n",
       "      <td>7.07</td>\n",
       "      <td>500.0</td>\n",
       "      <td>4.5</td>\n",
       "      <td>0.4</td>\n",
       "      <td>0.5</td>\n",
       "      <td>10.7</td>\n",
       "      <td>6.93</td>\n",
       "      <td>29.0</td>\n",
       "    </tr>\n",
       "  </tbody>\n",
       "</table>\n",
       "</div>"
      ],
      "text/plain": [
       "         Date  Raw_Turbidity  Raw_PH  Raw_Colour  PAC  KMnO4  ACD  Turbidity  \\\n",
       "0  31/12/2019           90.4    7.07       500.0  2.5    0.4  0.5       19.0   \n",
       "1  31/12/2019           90.4    7.07       500.0  3.0    0.4  0.5       14.2   \n",
       "2  31/12/2019           90.4    7.07       500.0  3.5    0.4  0.5       12.6   \n",
       "3  31/12/2019           90.4    7.07       500.0  4.0    0.4  0.5       10.6   \n",
       "4  31/12/2019           90.4    7.07       500.0  4.5    0.4  0.5       10.7   \n",
       "\n",
       "     PH  Colour  \n",
       "0  7.07    48.0  \n",
       "1  7.05    39.0  \n",
       "2  7.02    31.0  \n",
       "3  6.98    27.0  \n",
       "4  6.93    29.0  "
      ]
     },
     "execution_count": 17,
     "metadata": {},
     "output_type": "execute_result"
    }
   ],
   "source": [
    "\n",
    "# 1. Load the dataset\n",
    "df = pd.read_csv(\"E:\\jar-model\\jartest.csv\")\n",
    "df.head()"
   ]
  },
  {
   "cell_type": "code",
   "execution_count": 18,
   "id": "e2794c04",
   "metadata": {},
   "outputs": [
    {
     "data": {
      "text/html": [
       "<div>\n",
       "<style scoped>\n",
       "    .dataframe tbody tr th:only-of-type {\n",
       "        vertical-align: middle;\n",
       "    }\n",
       "\n",
       "    .dataframe tbody tr th {\n",
       "        vertical-align: top;\n",
       "    }\n",
       "\n",
       "    .dataframe thead th {\n",
       "        text-align: right;\n",
       "    }\n",
       "</style>\n",
       "<table border=\"1\" class=\"dataframe\">\n",
       "  <thead>\n",
       "    <tr style=\"text-align: right;\">\n",
       "      <th></th>\n",
       "      <th>Date</th>\n",
       "      <th>Raw_Turbidity</th>\n",
       "      <th>Raw_PH</th>\n",
       "      <th>Raw_Colour</th>\n",
       "      <th>PAC</th>\n",
       "      <th>KMnO4</th>\n",
       "      <th>ACD</th>\n",
       "      <th>Turbidity</th>\n",
       "      <th>PH</th>\n",
       "      <th>Colour</th>\n",
       "    </tr>\n",
       "  </thead>\n",
       "  <tbody>\n",
       "    <tr>\n",
       "      <th>0</th>\n",
       "      <td>31/12/2019</td>\n",
       "      <td>90.4</td>\n",
       "      <td>7.07</td>\n",
       "      <td>500.0</td>\n",
       "      <td>2.5</td>\n",
       "      <td>0.4</td>\n",
       "      <td>0.5</td>\n",
       "      <td>19.0</td>\n",
       "      <td>7.07</td>\n",
       "      <td>48.0</td>\n",
       "    </tr>\n",
       "    <tr>\n",
       "      <th>1</th>\n",
       "      <td>31/12/2019</td>\n",
       "      <td>90.4</td>\n",
       "      <td>7.07</td>\n",
       "      <td>500.0</td>\n",
       "      <td>3.0</td>\n",
       "      <td>0.4</td>\n",
       "      <td>0.5</td>\n",
       "      <td>14.2</td>\n",
       "      <td>7.05</td>\n",
       "      <td>39.0</td>\n",
       "    </tr>\n",
       "    <tr>\n",
       "      <th>2</th>\n",
       "      <td>31/12/2019</td>\n",
       "      <td>90.4</td>\n",
       "      <td>7.07</td>\n",
       "      <td>500.0</td>\n",
       "      <td>3.5</td>\n",
       "      <td>0.4</td>\n",
       "      <td>0.5</td>\n",
       "      <td>12.6</td>\n",
       "      <td>7.02</td>\n",
       "      <td>31.0</td>\n",
       "    </tr>\n",
       "    <tr>\n",
       "      <th>3</th>\n",
       "      <td>31/12/2019</td>\n",
       "      <td>90.4</td>\n",
       "      <td>7.07</td>\n",
       "      <td>500.0</td>\n",
       "      <td>4.0</td>\n",
       "      <td>0.4</td>\n",
       "      <td>0.5</td>\n",
       "      <td>10.6</td>\n",
       "      <td>6.98</td>\n",
       "      <td>27.0</td>\n",
       "    </tr>\n",
       "    <tr>\n",
       "      <th>4</th>\n",
       "      <td>31/12/2019</td>\n",
       "      <td>90.4</td>\n",
       "      <td>7.07</td>\n",
       "      <td>500.0</td>\n",
       "      <td>4.5</td>\n",
       "      <td>0.4</td>\n",
       "      <td>0.5</td>\n",
       "      <td>10.7</td>\n",
       "      <td>6.93</td>\n",
       "      <td>29.0</td>\n",
       "    </tr>\n",
       "  </tbody>\n",
       "</table>\n",
       "</div>"
      ],
      "text/plain": [
       "         Date  Raw_Turbidity  Raw_PH  Raw_Colour  PAC  KMnO4  ACD  Turbidity  \\\n",
       "0  31/12/2019           90.4    7.07       500.0  2.5    0.4  0.5       19.0   \n",
       "1  31/12/2019           90.4    7.07       500.0  3.0    0.4  0.5       14.2   \n",
       "2  31/12/2019           90.4    7.07       500.0  3.5    0.4  0.5       12.6   \n",
       "3  31/12/2019           90.4    7.07       500.0  4.0    0.4  0.5       10.6   \n",
       "4  31/12/2019           90.4    7.07       500.0  4.5    0.4  0.5       10.7   \n",
       "\n",
       "     PH  Colour  \n",
       "0  7.07    48.0  \n",
       "1  7.05    39.0  \n",
       "2  7.02    31.0  \n",
       "3  6.98    27.0  \n",
       "4  6.93    29.0  "
      ]
     },
     "execution_count": 18,
     "metadata": {},
     "output_type": "execute_result"
    }
   ],
   "source": [
    "# Drop rows with missing target values\n",
    "df = df.dropna(subset=['Turbidity', 'PH', 'Colour'])\n",
    "df.head()"
   ]
  },
  {
   "cell_type": "code",
   "execution_count": 19,
   "id": "a2a91596",
   "metadata": {},
   "outputs": [],
   "source": [
    "\n",
    "# 2. Detect outliers with Isolation Forest\n",
    "features = ['Raw_Turbidity', 'Raw_PH', 'Raw_Colour', 'PAC', 'KMnO4', 'ACD', \n",
    "            'Turbidity', 'PH', 'Colour']\n",
    "iso = IsolationForest(contamination=0.05, random_state=42)\n",
    "df['is_inlier'] = iso.fit_predict(df[features])"
   ]
  },
  {
   "cell_type": "code",
   "execution_count": 20,
   "id": "8510841f",
   "metadata": {},
   "outputs": [],
   "source": [
    "\n",
    "# 3. Remove outliers\n",
    "df_clean = df[df['is_inlier'] == 1].drop(columns=['is_inlier'])\n"
   ]
  },
  {
   "cell_type": "code",
   "execution_count": 21,
   "id": "a7796fed",
   "metadata": {},
   "outputs": [
    {
     "name": "stdout",
     "output_type": "stream",
     "text": [
      "Clean data saved to cleaned_jartest1.csv\n"
     ]
    }
   ],
   "source": [
    "\n",
    "# 4. Save cleaned data\n",
    "clean_path = 'cleaned_jartest1.csv'\n",
    "df_clean.to_csv(clean_path, index=False)\n",
    "print(f\"Clean data saved to {clean_path}\")\n"
   ]
  },
  {
   "cell_type": "code",
   "execution_count": 22,
   "id": "51cf9dc5",
   "metadata": {},
   "outputs": [
    {
     "data": {
      "text/html": [
       "<a href='cleaned_jartest1.csv' target='_blank'>cleaned_jartest1.csv</a><br>"
      ],
      "text/plain": [
       "e:\\jar-model\\cleaned_jartest1.csv"
      ]
     },
     "execution_count": 22,
     "metadata": {},
     "output_type": "execute_result"
    }
   ],
   "source": [
    "\n",
    "# 5. Provide a download link in Jupyter\n",
    "FileLink(clean_path)"
   ]
  }
 ],
 "metadata": {
  "kernelspec": {
   "display_name": "Python 3",
   "language": "python",
   "name": "python3"
  },
  "language_info": {
   "codemirror_mode": {
    "name": "ipython",
    "version": 3
   },
   "file_extension": ".py",
   "mimetype": "text/x-python",
   "name": "python",
   "nbconvert_exporter": "python",
   "pygments_lexer": "ipython3",
   "version": "3.13.5"
  }
 },
 "nbformat": 4,
 "nbformat_minor": 5
}
