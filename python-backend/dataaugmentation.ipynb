{
 "cells": [
  {
   "cell_type": "markdown",
   "id": "80e605f9",
   "metadata": {},
   "source": [
    "# Data Augmentation with SMOTE\n",
    "This notebook demonstrates how to augment an imbalanced classification dataset using **SMOTE**."
   ]
  },
  {
   "cell_type": "code",
   "execution_count": 8,
   "id": "aad433f7",
   "metadata": {},
   "outputs": [
    {
     "data": {
      "text/plain": [
       "{'cell_type': 'code',\n",
       " 'metadata': {'language': 'python'},\n",
       " 'source': ['%pip install scikit-learn==1.2.2 imbalanced-learn==0.10.1']}"
      ]
     },
     "execution_count": 8,
     "metadata": {},
     "output_type": "execute_result"
    }
   ],
   "source": [
    "{\n",
    "  \"cell_type\": \"code\",\n",
    "  \"metadata\": {\n",
    "    \"language\": \"python\"\n",
    "  },\n",
    "  \"source\": [\n",
    "    \"%pip install scikit-learn==1.2.2 imbalanced-learn==0.10.1\"\n",
    "  ]\n",
    "}"
   ]
  },
  {
   "cell_type": "code",
   "execution_count": 9,
   "id": "198f1a53",
   "metadata": {},
   "outputs": [],
   "source": [
    "# Import libraries\n",
    "import pandas as pd\n",
    "import numpy as np\n",
    "from imblearn.over_sampling import SMOTE\n",
    "from sklearn.model_selection import train_test_split\n",
    "from sklearn.preprocessing import LabelEncoder"
   ]
  },
  {
   "cell_type": "code",
   "execution_count": 10,
   "id": "d1881fbc",
   "metadata": {},
   "outputs": [
    {
     "data": {
      "text/html": [
       "<div>\n",
       "<style scoped>\n",
       "    .dataframe tbody tr th:only-of-type {\n",
       "        vertical-align: middle;\n",
       "    }\n",
       "\n",
       "    .dataframe tbody tr th {\n",
       "        vertical-align: top;\n",
       "    }\n",
       "\n",
       "    .dataframe thead th {\n",
       "        text-align: right;\n",
       "    }\n",
       "</style>\n",
       "<table border=\"1\" class=\"dataframe\">\n",
       "  <thead>\n",
       "    <tr style=\"text-align: right;\">\n",
       "      <th></th>\n",
       "      <th>Raw_Turbidity</th>\n",
       "      <th>Raw_PH</th>\n",
       "      <th>Raw_Colour</th>\n",
       "      <th>PAC</th>\n",
       "      <th>KMnO4</th>\n",
       "      <th>ACD</th>\n",
       "      <th>Turbidity</th>\n",
       "      <th>PH</th>\n",
       "      <th>Colour</th>\n",
       "    </tr>\n",
       "  </thead>\n",
       "  <tbody>\n",
       "    <tr>\n",
       "      <th>0</th>\n",
       "      <td>90.4</td>\n",
       "      <td>7.07</td>\n",
       "      <td>500.0</td>\n",
       "      <td>2.5</td>\n",
       "      <td>0.4</td>\n",
       "      <td>0.5</td>\n",
       "      <td>19.0</td>\n",
       "      <td>7.07</td>\n",
       "      <td>48.0</td>\n",
       "    </tr>\n",
       "    <tr>\n",
       "      <th>1</th>\n",
       "      <td>90.4</td>\n",
       "      <td>7.07</td>\n",
       "      <td>500.0</td>\n",
       "      <td>3.0</td>\n",
       "      <td>0.4</td>\n",
       "      <td>0.5</td>\n",
       "      <td>14.2</td>\n",
       "      <td>7.05</td>\n",
       "      <td>39.0</td>\n",
       "    </tr>\n",
       "    <tr>\n",
       "      <th>2</th>\n",
       "      <td>90.4</td>\n",
       "      <td>7.07</td>\n",
       "      <td>500.0</td>\n",
       "      <td>3.5</td>\n",
       "      <td>0.4</td>\n",
       "      <td>0.5</td>\n",
       "      <td>12.6</td>\n",
       "      <td>7.02</td>\n",
       "      <td>31.0</td>\n",
       "    </tr>\n",
       "    <tr>\n",
       "      <th>3</th>\n",
       "      <td>90.4</td>\n",
       "      <td>7.07</td>\n",
       "      <td>500.0</td>\n",
       "      <td>4.0</td>\n",
       "      <td>0.4</td>\n",
       "      <td>0.5</td>\n",
       "      <td>10.6</td>\n",
       "      <td>6.98</td>\n",
       "      <td>27.0</td>\n",
       "    </tr>\n",
       "    <tr>\n",
       "      <th>4</th>\n",
       "      <td>90.4</td>\n",
       "      <td>7.07</td>\n",
       "      <td>500.0</td>\n",
       "      <td>4.5</td>\n",
       "      <td>0.4</td>\n",
       "      <td>0.5</td>\n",
       "      <td>10.7</td>\n",
       "      <td>6.93</td>\n",
       "      <td>29.0</td>\n",
       "    </tr>\n",
       "  </tbody>\n",
       "</table>\n",
       "</div>"
      ],
      "text/plain": [
       "   Raw_Turbidity  Raw_PH  Raw_Colour  PAC  KMnO4  ACD  Turbidity    PH  Colour\n",
       "0           90.4    7.07       500.0  2.5    0.4  0.5       19.0  7.07    48.0\n",
       "1           90.4    7.07       500.0  3.0    0.4  0.5       14.2  7.05    39.0\n",
       "2           90.4    7.07       500.0  3.5    0.4  0.5       12.6  7.02    31.0\n",
       "3           90.4    7.07       500.0  4.0    0.4  0.5       10.6  6.98    27.0\n",
       "4           90.4    7.07       500.0  4.5    0.4  0.5       10.7  6.93    29.0"
      ]
     },
     "execution_count": 10,
     "metadata": {},
     "output_type": "execute_result"
    }
   ],
   "source": [
    "# Load data\n",
    "data = pd.read_csv('E:\\\\jar-model\\\\jartest.csv')\n",
    "data = data.drop(columns=['Date'])\n",
    "data.head()"
   ]
  },
  {
   "cell_type": "code",
   "execution_count": 14,
   "id": "a93a0d55",
   "metadata": {},
   "outputs": [],
   "source": [
    "# For demonstration, discretize 'Turbidity' into 3 classes\n",
    "data['Turbidity_class'] = pd.qcut(data['Turbidity'], q=3, labels=['low','medium','high'])\n",
    "\n",
    "# Prepare features and target: select numeric columns only\n",
    "feature_cols = ['Raw_Turbidity', 'Raw_Colour', 'Raw_PH', 'PAC', 'KMnO4', 'ACD']\n",
    "X = data[feature_cols]\n",
    "y = data['Turbidity_class']"
   ]
  },
  {
   "cell_type": "code",
   "execution_count": 18,
   "id": "8293f84a",
   "metadata": {},
   "outputs": [],
   "source": [
    "# Split before augmentation\n",
    "X_train, X_test, y_train, y_test = train_test_split(X, y, test_size=0.2, random_state=42)\n",
    "\n",
    "# Ensure features are numeric\n",
    "X_train = X_train.apply(pd.to_numeric, errors='coerce')\n",
    "X_train = X_train.fillna(0)\n",
    "\n",
    "# Apply SMOTE with fewer neighbors\n",
    "smote = SMOTE(random_state=42, k_neighbors=2)\n",
    "le = LabelEncoder()\n",
    "y_train_enc = le.fit_transform(y_train)\n",
    "X_resampled, y_resampled_enc = smote.fit_resample(X_train, y_train_enc)\n",
    "y_resampled = le.inverse_transform(y_resampled_enc)\n",
    "y_resampled = pd.Series(y_resampled, name='Turbidity_class')"
   ]
  },
  {
   "cell_type": "code",
   "execution_count": 19,
   "id": "46911070",
   "metadata": {},
   "outputs": [
    {
     "name": "stdout",
     "output_type": "stream",
     "text": [
      "Before SMOTE: Turbidity_class\n",
      "medium    1373\n",
      "high      1365\n",
      "low       1346\n",
      "Name: count, dtype: int64\n",
      "After SMOTE : Turbidity_class\n",
      "low       1373\n",
      "medium    1373\n",
      "high      1373\n",
      "Name: count, dtype: int64\n"
     ]
    }
   ],
   "source": [
    "# Compare class distributions\n",
    "print('Before SMOTE:', y_train.value_counts())\n",
    "print('After SMOTE :', y_resampled.value_counts())"
   ]
  },
  {
   "cell_type": "code",
   "execution_count": 21,
   "id": "80512a0e",
   "metadata": {},
   "outputs": [
    {
     "name": "stdout",
     "output_type": "stream",
     "text": [
      "Augmented dataset saved to E:\\jar-model\\jartest_augmented.csv\n"
     ]
    }
   ],
   "source": [
    "# Save augmented dataset to CSV\n",
    "df_aug = pd.DataFrame(X_resampled, columns=feature_cols)\n",
    "df_aug['Turbidity_class'] = y_resampled\n",
    "output_path = 'E:\\\\jar-model\\\\jartest_augmented.csv'\n",
    "df_aug.to_csv(output_path, index=False)\n",
    "print(f'Augmented dataset saved to {output_path}')"
   ]
  }
 ],
 "metadata": {
  "kernelspec": {
   "display_name": "Python 3",
   "language": "python",
   "name": "python3"
  },
  "language_info": {
   "codemirror_mode": {
    "name": "ipython",
    "version": 3
   },
   "file_extension": ".py",
   "mimetype": "text/x-python",
   "name": "python",
   "nbconvert_exporter": "python",
   "pygments_lexer": "ipython3",
   "version": "3.13.5"
  }
 },
 "nbformat": 4,
 "nbformat_minor": 5
}
