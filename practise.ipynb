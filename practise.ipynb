{
 "cells": [
  {
   "cell_type": "code",
   "execution_count": 8,
   "id": "5f7493ea",
   "metadata": {},
   "outputs": [],
   "source": [
    "import pandas as pd\n",
    "import numpy as np"
   ]
  },
  {
   "cell_type": "code",
   "execution_count": 9,
   "id": "30fdccae",
   "metadata": {},
   "outputs": [
    {
     "data": {
      "text/html": [
       "<div>\n",
       "<style scoped>\n",
       "    .dataframe tbody tr th:only-of-type {\n",
       "        vertical-align: middle;\n",
       "    }\n",
       "\n",
       "    .dataframe tbody tr th {\n",
       "        vertical-align: top;\n",
       "    }\n",
       "\n",
       "    .dataframe thead th {\n",
       "        text-align: right;\n",
       "    }\n",
       "</style>\n",
       "<table border=\"1\" class=\"dataframe\">\n",
       "  <thead>\n",
       "    <tr style=\"text-align: right;\">\n",
       "      <th></th>\n",
       "      <th>Date</th>\n",
       "      <th>Raw_Turbidity</th>\n",
       "      <th>Raw_PH</th>\n",
       "      <th>Raw_Colour</th>\n",
       "      <th>PAC</th>\n",
       "      <th>KMnO4</th>\n",
       "      <th>ACD</th>\n",
       "      <th>Turbidity</th>\n",
       "      <th>PH</th>\n",
       "      <th>Colour</th>\n",
       "    </tr>\n",
       "  </thead>\n",
       "  <tbody>\n",
       "    <tr>\n",
       "      <th>0</th>\n",
       "      <td>31/12/2019</td>\n",
       "      <td>90.4</td>\n",
       "      <td>7.07</td>\n",
       "      <td>500.0</td>\n",
       "      <td>2.5</td>\n",
       "      <td>0.4</td>\n",
       "      <td>0.5</td>\n",
       "      <td>19.0</td>\n",
       "      <td>7.07</td>\n",
       "      <td>48.0</td>\n",
       "    </tr>\n",
       "    <tr>\n",
       "      <th>1</th>\n",
       "      <td>31/12/2019</td>\n",
       "      <td>90.4</td>\n",
       "      <td>7.07</td>\n",
       "      <td>500.0</td>\n",
       "      <td>3.0</td>\n",
       "      <td>0.4</td>\n",
       "      <td>0.5</td>\n",
       "      <td>14.2</td>\n",
       "      <td>7.05</td>\n",
       "      <td>39.0</td>\n",
       "    </tr>\n",
       "    <tr>\n",
       "      <th>2</th>\n",
       "      <td>31/12/2019</td>\n",
       "      <td>90.4</td>\n",
       "      <td>7.07</td>\n",
       "      <td>500.0</td>\n",
       "      <td>3.5</td>\n",
       "      <td>0.4</td>\n",
       "      <td>0.5</td>\n",
       "      <td>12.6</td>\n",
       "      <td>7.02</td>\n",
       "      <td>31.0</td>\n",
       "    </tr>\n",
       "    <tr>\n",
       "      <th>3</th>\n",
       "      <td>31/12/2019</td>\n",
       "      <td>90.4</td>\n",
       "      <td>7.07</td>\n",
       "      <td>500.0</td>\n",
       "      <td>4.0</td>\n",
       "      <td>0.4</td>\n",
       "      <td>0.5</td>\n",
       "      <td>10.6</td>\n",
       "      <td>6.98</td>\n",
       "      <td>27.0</td>\n",
       "    </tr>\n",
       "    <tr>\n",
       "      <th>4</th>\n",
       "      <td>31/12/2019</td>\n",
       "      <td>90.4</td>\n",
       "      <td>7.07</td>\n",
       "      <td>500.0</td>\n",
       "      <td>4.5</td>\n",
       "      <td>0.4</td>\n",
       "      <td>0.5</td>\n",
       "      <td>10.7</td>\n",
       "      <td>6.93</td>\n",
       "      <td>29.0</td>\n",
       "    </tr>\n",
       "  </tbody>\n",
       "</table>\n",
       "</div>"
      ],
      "text/plain": [
       "         Date  Raw_Turbidity  Raw_PH  Raw_Colour  PAC  KMnO4  ACD  Turbidity  \\\n",
       "0  31/12/2019           90.4    7.07       500.0  2.5    0.4  0.5       19.0   \n",
       "1  31/12/2019           90.4    7.07       500.0  3.0    0.4  0.5       14.2   \n",
       "2  31/12/2019           90.4    7.07       500.0  3.5    0.4  0.5       12.6   \n",
       "3  31/12/2019           90.4    7.07       500.0  4.0    0.4  0.5       10.6   \n",
       "4  31/12/2019           90.4    7.07       500.0  4.5    0.4  0.5       10.7   \n",
       "\n",
       "     PH  Colour  \n",
       "0  7.07    48.0  \n",
       "1  7.05    39.0  \n",
       "2  7.02    31.0  \n",
       "3  6.98    27.0  \n",
       "4  6.93    29.0  "
      ]
     },
     "execution_count": 9,
     "metadata": {},
     "output_type": "execute_result"
    }
   ],
   "source": [
    "df = pd.read_csv('jartest.csv')\n",
    "df.head()"
   ]
  },
  {
   "cell_type": "code",
   "execution_count": 10,
   "id": "0aade1e2",
   "metadata": {},
   "outputs": [],
   "source": [
    "def remove_outliers_iqr(df, columns):\n",
    "    clean_df = df.copy()\n",
    "    for col in columns:\n",
    "        if col in ['Date']:  # Skip non-numeric columns\n",
    "            continue\n",
    "            \n",
    "        # Calculate quartiles and IQR\n",
    "        Q1 = clean_df[col].quantile(0.25)\n",
    "        Q3 = clean_df[col].quantile(0.75)\n",
    "        IQR = Q3 - Q1\n",
    "        \n",
    "        # Define outlier bounds\n",
    "        lower_bound = Q1 - 1.5 * IQR\n",
    "        upper_bound = Q3 + 1.5 * IQR\n",
    "        \n",
    "        # Filter out outliers\n",
    "        clean_df = clean_df[(clean_df[col] >= lower_bound) & (clean_df[col] <= upper_bound)]\n",
    "    \n",
    "    return clean_df"
   ]
  },
  {
   "cell_type": "code",
   "execution_count": 11,
   "id": "e1901ef0",
   "metadata": {},
   "outputs": [],
   "source": [
    "numeric_cols = ['Raw_Turbidity', 'Raw_PH', 'Raw_Colour', 'PAC', 'KMnO4', 'ACD', \n",
    "                'Turbidity', 'PH', 'Colour']\n"
   ]
  },
  {
   "cell_type": "code",
   "execution_count": 12,
   "id": "d35a77b7",
   "metadata": {},
   "outputs": [],
   "source": [
    "original_count = len(df)\n",
    "clean_df = remove_outliers_iqr(df, numeric_cols)\n",
    "cleaned_count = len(clean_df)"
   ]
  },
  {
   "cell_type": "code",
   "execution_count": 14,
   "id": "70f13c09",
   "metadata": {},
   "outputs": [],
   "source": [
    "clean_df.to_csv('cleanedjartest.csv', index=False)"
   ]
  }
 ],
 "metadata": {
  "kernelspec": {
   "display_name": "Python 3",
   "language": "python",
   "name": "python3"
  },
  "language_info": {
   "codemirror_mode": {
    "name": "ipython",
    "version": 3
   },
   "file_extension": ".py",
   "mimetype": "text/x-python",
   "name": "python",
   "nbconvert_exporter": "python",
   "pygments_lexer": "ipython3",
   "version": "3.13.5"
  }
 },
 "nbformat": 4,
 "nbformat_minor": 5
}
